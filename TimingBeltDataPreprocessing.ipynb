{
 "cells": [
  {
   "cell_type": "code",
   "execution_count": 41,
   "metadata": {},
   "outputs": [],
   "source": [
    "import numpy as np\n",
    "import pandas as pd\n",
    "import glob\n",
    "import os, sys\n",
    "import matplotlib.pyplot as plt\n",
    "from sklearn.linear_model import LinearRegression\n",
    "import datetime"
   ]
  },
  {
   "cell_type": "code",
   "execution_count": 4,
   "metadata": {},
   "outputs": [],
   "source": [
    "# pd.set_option('display.max_rows', None) # 전체 행 보기\n",
    "pd.options.display.max_rows = 90 # 적당히\n",
    "pd.options.display.max_columns = 45"
   ]
  },
  {
   "cell_type": "code",
   "execution_count": 43,
   "metadata": {},
   "outputs": [
    {
     "name": "stdout",
     "output_type": "stream",
     "text": [
      "the number of files in JS: 3768\n",
      "the number of files in CMPS: 3417\n",
      "the number of files in SSJD: 3530\n",
      "the number of files in SSNC: 3556\n",
      "3768\n"
     ]
    },
    {
     "data": {
      "text/plain": [
       "'A_0531_215414'"
      ]
     },
     "execution_count": 43,
     "metadata": {},
     "output_type": "execute_result"
    }
   ],
   "source": [
    "# JS, CMPS, SSJD, SSNC. 결측치 및 이상 데이터를 포함하는 행을 제외한 Internal Sound 열\n",
    "filesinJS = []\n",
    "filesinCMPS = []\n",
    "filesinSSJD = []\n",
    "filesinSSNC = []\n",
    "faulttypelist = ['JS', 'CMPS', 'SSJD', 'SSNC'] # 결함 유형\n",
    "for faulttype in faulttypelist:\n",
    "    os.chdir(\"C:\\\\Users\\\\99kit\\\\Desktop\\\\라즈베리파이제발\\\\Belt_\"+faulttype)\n",
    "    filelist = glob.glob('**/*.txt', recursive=True) # 결함 유형 폴더에서 불러온 모든 txt 파일\n",
    "    len(filelist) # 3768, 3417, 3530, 3556\n",
    "    num = 0\n",
    "    for i in range(len(filelist)):\n",
    "        currentfile = datetime.datetime(2023, int(filelist[i][:2]), int(filelist[i][3:5]), int(filelist[i][6:8]), int(filelist[i][9:11]), int(filelist[i][12:14]))\n",
    "        with open(filelist[i], 'r') as file:\n",
    "            data = []\n",
    "            for line in file:\n",
    "                values = line.strip().split(',')\n",
    "                if len(values)==3:\n",
    "                    data.append(values) # Internal Sound, Ambient Temmp., Target Temp. 열에 값이 없거나 보다 많은 개수의 값이 존재하는 행은 버릴 것입니다.\n",
    "            globals()['A_'+currentfile.strftime(\"%m%d_%H%M%S\")] = pd.DataFrame(data, columns=['Internal Sound', 'Ambient Temp.', 'Target Temp.']) # 동적 변수 생성\n",
    "            globals()['A_'+currentfile.strftime(\"%m%d_%H%M%S\")]['Internal Sound'] = globals()['A_'+currentfile.strftime(\"%m%d_%H%M%S\")]['Internal Sound'].astype(int)\n",
    "            # globals()['A_'+currentfile.strftime(\"%m%d_%H%M%S\")]['Ambient Temp.'] = globals()['A_'+currentfile.strftime(\"%m%d_%H%M%S\")]['Ambient Temp.'].astype(float) # 온도 데이터 필요할 때 살리세요.\n",
    "            # globals()['A_'+currentfile.strftime(\"%m%d_%H%M%S\")]['Target Temp.'] = globals()['A_'+currentfile.strftime(\"%m%d_%H%M%S\")]['Target Temp.'].astype(float)\n",
    "            globals()['A_'+currentfile.strftime(\"%m%d_%H%M%S\")] = pd.DataFrame(globals()['A_'+currentfile.strftime(\"%m%d_%H%M%S\")].loc[:, 'Internal Sound']) # 온도 데이터 필요할 때 죽이세요.\n",
    "            if faulttype == 'JS':\n",
    "                filesinJS.append('A_'+currentfile.strftime(\"%m%d_%H%M%S\"))\n",
    "            elif faulttype == 'CMPS':\n",
    "                filesinCMPS.append('A_'+currentfile.strftime(\"%m%d_%H%M%S\"))\n",
    "            elif faulttype == 'SSJD':\n",
    "                filesinSSJD.append('A_'+currentfile.strftime(\"%m%d_%H%M%S\"))\n",
    "            elif faulttype == 'SSNC':\n",
    "                filesinSSNC.append('A_'+currentfile.strftime(\"%m%d_%H%M%S\"))\n",
    "            num += 1\n",
    "    print(f\"the number of files in {faulttype}: {num}\") # 3768, 3417, 3530, 3556\n",
    "print(len(filesinJS)) # 3768\n",
    "filesinCMPS[-1] # CMPS 마지막 동적 변수 이름\n",
    "# A_0531_232959 # 동적 변수 이름"
   ]
  },
  {
   "cell_type": "code",
   "execution_count": 47,
   "metadata": {},
   "outputs": [
    {
     "data": {
      "text/plain": [
       "184"
      ]
     },
     "execution_count": 47,
     "metadata": {},
     "output_type": "execute_result"
    }
   ],
   "source": [
    "# 모든 폴더에 대해 시작 파일부터 1초 단위로 파일이 생성되었는지 확인.\n",
    "# 누락 파일명 기억해뒀다가 신호처리 후 선형 보간 예정. 다른 방법이 없다.\n",
    "faulttypelist = ['JS', 'CMPS', 'SSJD', 'SSNC'] # 결함 유형\n",
    "time2namelistofJS = []\n",
    "time2namelistofCMPS = []\n",
    "time2namelistofSSJD = []\n",
    "time2namelistofSSNC = []\n",
    "for faulttype in faulttypelist:\n",
    "    os.chdir(\"C:\\\\Users\\\\99kit\\\\Desktop\\\\라즈베리파이제발\\\\Belt_\"+faulttype)\n",
    "    filelist = glob.glob('**/*.txt', recursive=True) # 결함 유형 폴더에서 불러온 모든 txt 파일\n",
    "    starttime = datetime.datetime(2023, int(filelist[0][:2]), int(filelist[0][3:5]), int(filelist[0][6:8]), int(filelist[0][9:11]), int(filelist[0][12:14])) # 각 결함 유형 폴더의 첫 번째 파일 수집 시각\n",
    "    endtime = datetime.datetime(2023, int(filelist[-1][:2]), int(filelist[-1][3:5]), int(filelist[-1][6:8]), int(filelist[-1][9:11]), int(filelist[-1][12:14])) # 각 결함 유형 폴더의 마지막 파일 수집 시각\n",
    "    timelist = [] # 파일이 1초에 하나씩 정상적으로 생성되었을 경우를 가정하여 각 파일의 생성 시점을 저장할 것입니다.\n",
    "    currenttime = starttime\n",
    "    while currenttime <= endtime:\n",
    "        timelist.append(currenttime) # 파일이 1초에 하나씩 정상적으로 생성되었을 경우를 가정하고 각 파일의 생성 시점을 저장합니다.\n",
    "        currenttime += datetime.timedelta(seconds=1)\n",
    "    if faulttype == 'JS':\n",
    "        for timeitem in timelist:\n",
    "            time2name = timeitem.strftime(\"A_%m%d_%H%M%S\")\n",
    "            time2namelistofJS.append(time2name)\n",
    "    elif faulttype == 'CMPS':\n",
    "        for timeitem in timelist:\n",
    "            time2name = timeitem.strftime(\"A_%m%d_%H%M%S\")\n",
    "            time2namelistofCMPS.append(time2name)\n",
    "    elif faulttype == 'SSJD':\n",
    "        for timeitem in timelist:\n",
    "            time2name = timeitem.strftime(\"A_%m%d_%H%M%S\")\n",
    "            time2namelistofSSJD.append(time2name)\n",
    "    elif faulttype == 'SSNC':\n",
    "        for timeitem in timelist:\n",
    "            time2name = timeitem.strftime(\"A_%m%d_%H%M%S\")\n",
    "            time2namelistofSSNC.append(time2name)\n",
    "# len(time2namelistof어쩌구) = 3952, 3616, 3707, 3637\n",
    "\n",
    "# 결측 파일 찾기\n",
    "missingfilesofJS = []\n",
    "for m in time2namelistofJS:\n",
    "    if m not in filesinJS:\n",
    "        missingfilesofJS.append(m)\n",
    "\n",
    "missingfilesofCMPS = []\n",
    "for m in time2namelistofCMPS:\n",
    "    if m not in filesinCMPS:\n",
    "        missingfilesofCMPS.append(m)\n",
    "\n",
    "missingfilesofSSJD = []\n",
    "for m in time2namelistofSSJD:\n",
    "    if m not in filesinSSJD:\n",
    "        missingfilesofSSJD.append(m)\n",
    "\n",
    "missingfilesofSSNC = []\n",
    "for m in time2namelistofSSNC:\n",
    "    if m not in filesinSSNC:\n",
    "        missingfilesofSSNC.append(m)\n",
    "\n",
    "len(missingfilesofJS) # 184. 결측 파일 정보. 184+3768=3952\n",
    "# missingfilesofCMPS\n",
    "# missingfilesofSSJD\n",
    "# missingfilesofSSNC\n",
    "#########################################################################################################################################33"
   ]
  },
  {
   "cell_type": "code",
   "execution_count": 133,
   "metadata": {},
   "outputs": [],
   "source": [
    "# JS. 신호처리"
   ]
  }
 ],
 "metadata": {
  "kernelspec": {
   "display_name": "Python 3",
   "language": "python",
   "name": "python3"
  },
  "language_info": {
   "codemirror_mode": {
    "name": "ipython",
    "version": 3
   },
   "file_extension": ".py",
   "mimetype": "text/x-python",
   "name": "python",
   "nbconvert_exporter": "python",
   "pygments_lexer": "ipython3",
   "version": "3.11.1"
  },
  "orig_nbformat": 4
 },
 "nbformat": 4,
 "nbformat_minor": 2
}

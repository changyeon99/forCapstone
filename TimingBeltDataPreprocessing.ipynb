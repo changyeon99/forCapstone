{
 "cells": [
  {
   "cell_type": "code",
   "execution_count": 59,
   "metadata": {},
   "outputs": [],
   "source": [
    "import numpy as np\n",
    "import pandas as pd\n",
    "import glob\n",
    "import os, sys\n",
    "import matplotlib.pyplot as plt\n",
    "from sklearn.linear_model import LinearRegression\n",
    "import datetime"
   ]
  },
  {
   "cell_type": "code",
   "execution_count": 97,
   "metadata": {},
   "outputs": [],
   "source": [
    "# pd.set_option('display.max_rows', None)\n",
    "pd.options.display.max_rows = 90\n",
    "pd.options.display.max_columns = 45"
   ]
  },
  {
   "cell_type": "code",
   "execution_count": 131,
   "metadata": {},
   "outputs": [
    {
     "name": "stdout",
     "output_type": "stream",
     "text": [
      "3768\n"
     ]
    }
   ],
   "source": [
    "# JS. 결측치 및 이상 데이터를 포함한 행을 제외한 Internal Sound 열\n",
    "os.chdir(r\"C:\\Users\\99kit\\Desktop\\라즈베리파이제발\\Belt_JS\")\n",
    "filelist = glob.glob('**/*.txt', recursive=True)\n",
    "len(filelist) # 3768\n",
    "num = 0\n",
    "for i in range(len(filelist)):\n",
    "    currentfile = datetime.datetime(2023, int(filelist[i][:2]), int(filelist[i][3:5]), int(filelist[i][6:8]), int(filelist[i][9:11]), int(filelist[i][12:14]))\n",
    "    with open(filelist[i], 'r') as file:\n",
    "        data = []\n",
    "        for line in file:\n",
    "            values = line.strip().split(',')\n",
    "            if len(values) == 3:\n",
    "                data.append(values)\n",
    "        globals()['A_'+currentfile.strftime(\"%m%d_%H%M%S\")] = pd.DataFrame(data, columns=['Internal Sound', 'Ambient Temp.', 'Target Temp.'])\n",
    "        globals()['A_'+currentfile.strftime(\"%m%d_%H%M%S\")]['Internal Sound'] = globals()['A_'+currentfile.strftime(\"%m%d_%H%M%S\")]['Internal Sound'].astype(int)\n",
    "        # globals()['A_'+currentfile.strftime(\"%m%d_%H%M%S\")]['Ambient Temp.'] = globals()['A_'+currentfile.strftime(\"%m%d_%H%M%S\")]['Ambient Temp.'].astype(float) # 온도 데이터 필요할 때 살리세요.\n",
    "        # globals()['A_'+currentfile.strftime(\"%m%d_%H%M%S\")]['Target Temp.'] = globals()['A_'+currentfile.strftime(\"%m%d_%H%M%S\")]['Target Temp.'].astype(float)\n",
    "        globals()['A_'+currentfile.strftime(\"%m%d_%H%M%S\")] = pd.DataFrame(globals()['A_'+currentfile.strftime(\"%m%d_%H%M%S\")].loc[:, 'Internal Sound']) # 온도 데이터 필요할 때 죽이세요.\n",
    "        num += 1\n",
    "\n",
    "print(num) # 3768\n",
    "# A_0531_232959"
   ]
  },
  {
   "cell_type": "code",
   "execution_count": 133,
   "metadata": {},
   "outputs": [],
   "source": [
    "# JS. 신호처리"
   ]
  },
  {
   "cell_type": "code",
   "execution_count": 128,
   "metadata": {},
   "outputs": [
    {
     "name": "stdout",
     "output_type": "stream",
     "text": [
      "3417\n"
     ]
    }
   ],
   "source": [
    "# CMPS. 결측치 및 이상 데이터를 포함한 행을 제외한 Internal Sound 열\n",
    "os.chdir(r\"C:\\Users\\99kit\\Desktop\\라즈베리파이제발\\Belt_CMPS\")\n",
    "filelist = glob.glob('**/*.txt', recursive=True)\n",
    "len(filelist) # 3417\n",
    "num = 0\n",
    "for i in range(len(filelist)):\n",
    "    currentfile = datetime.datetime(2023, int(filelist[i][:2]), int(filelist[i][3:5]), int(filelist[i][6:8]), int(filelist[i][9:11]), int(filelist[i][12:14]))\n",
    "    with open(filelist[i], 'r') as file:\n",
    "        data = []\n",
    "        for line in file:\n",
    "            values = line.strip().split(',')\n",
    "            if len(values) == 3:\n",
    "                data.append(values)\n",
    "        globals()['A_'+currentfile.strftime(\"%m%d_%H%M%S\")] = pd.DataFrame(data, columns=['Internal Sound', 'Ambient Temp.', 'Target Temp.'])\n",
    "        globals()['A_'+currentfile.strftime(\"%m%d_%H%M%S\")]['Internal Sound'] = globals()['A_'+currentfile.strftime(\"%m%d_%H%M%S\")]['Internal Sound'].astype(int)\n",
    "        # globals()['A_'+currentfile.strftime(\"%m%d_%H%M%S\")]['Ambient Temp.'] = globals()['A_'+currentfile.strftime(\"%m%d_%H%M%S\")]['Ambient Temp.'].astype(float) # 온도 데이터 필요할 때 살리세요.\n",
    "        # globals()['A_'+currentfile.strftime(\"%m%d_%H%M%S\")]['Target Temp.'] = globals()['A_'+currentfile.strftime(\"%m%d_%H%M%S\")]['Target Temp.'].astype(float)\n",
    "        globals()['A_'+currentfile.strftime(\"%m%d_%H%M%S\")] = pd.DataFrame(globals()['A_'+currentfile.strftime(\"%m%d_%H%M%S\")].loc[:, 'Internal Sound']) # 온도 데이터 필요할 때 죽이세요.\n",
    "        num += 1\n",
    "\n",
    "print(num) # 3417\n",
    "# A_0531_205359"
   ]
  },
  {
   "cell_type": "code",
   "execution_count": 129,
   "metadata": {},
   "outputs": [
    {
     "name": "stdout",
     "output_type": "stream",
     "text": [
      "3530\n"
     ]
    }
   ],
   "source": [
    "# SSJD. 결측치 및 이상 데이터를 포함한 행을 제외한 Internal Sound 열\n",
    "os.chdir(r\"C:\\Users\\99kit\\Desktop\\라즈베리파이제발\\Belt_SSJD\")\n",
    "filelist = glob.glob('**/*.txt', recursive=True)\n",
    "len(filelist) # 3530\n",
    "num = 0\n",
    "for i in range(len(filelist)):\n",
    "    currentfile = datetime.datetime(2023, int(filelist[i][:2]), int(filelist[i][3:5]), int(filelist[i][6:8]), int(filelist[i][9:11]), int(filelist[i][12:14]))\n",
    "    with open(filelist[i], 'r') as file:\n",
    "        data = []\n",
    "        for line in file:\n",
    "            values = line.strip().split(',')\n",
    "            if len(values) == 3:\n",
    "                data.append(values)\n",
    "        globals()['A_'+currentfile.strftime(\"%m%d_%H%M%S\")] = pd.DataFrame(data, columns=['Internal Sound', 'Ambient Temp.', 'Target Temp.'])\n",
    "        globals()['A_'+currentfile.strftime(\"%m%d_%H%M%S\")]['Internal Sound'] = globals()['A_'+currentfile.strftime(\"%m%d_%H%M%S\")]['Internal Sound'].astype(int)\n",
    "        # globals()['A_'+currentfile.strftime(\"%m%d_%H%M%S\")]['Ambient Temp.'] = globals()['A_'+currentfile.strftime(\"%m%d_%H%M%S\")]['Ambient Temp.'].astype(float) # 온도 데이터 필요할 때 살리세요.\n",
    "        # globals()['A_'+currentfile.strftime(\"%m%d_%H%M%S\")]['Target Temp.'] = globals()['A_'+currentfile.strftime(\"%m%d_%H%M%S\")]['Target Temp.'].astype(float)\n",
    "        globals()['A_'+currentfile.strftime(\"%m%d_%H%M%S\")] = pd.DataFrame(globals()['A_'+currentfile.strftime(\"%m%d_%H%M%S\")].loc[:, 'Internal Sound']) # 온도 데이터 필요할 때 죽이세요.\n",
    "        num += 1\n",
    "\n",
    "print(num) # 3530\n",
    "# A_0601_014802"
   ]
  },
  {
   "cell_type": "code",
   "execution_count": 130,
   "metadata": {},
   "outputs": [
    {
     "name": "stdout",
     "output_type": "stream",
     "text": [
      "3556\n"
     ]
    }
   ],
   "source": [
    "# SSNC. 결측치 및 이상 데이터를 포함한 행을 제외한 Internal Sound 열\n",
    "os.chdir(r\"C:\\Users\\99kit\\Desktop\\라즈베리파이제발\\Belt_SSNC\")\n",
    "filelist = glob.glob('**/*.txt', recursive=True)\n",
    "len(filelist) # 3556\n",
    "num = 0\n",
    "for i in range(len(filelist)):\n",
    "    currentfile = datetime.datetime(2023, int(filelist[i][:2]), int(filelist[i][3:5]), int(filelist[i][6:8]), int(filelist[i][9:11]), int(filelist[i][12:14]))\n",
    "    with open(filelist[i], 'r') as file:\n",
    "        data = []\n",
    "        for line in file:\n",
    "            values = line.strip().split(',')\n",
    "            if len(values) == 3:\n",
    "                data.append(values)\n",
    "        globals()['A_'+currentfile.strftime(\"%m%d_%H%M%S\")] = pd.DataFrame(data, columns=['Internal Sound', 'Ambient Temp.', 'Target Temp.'])\n",
    "        globals()['A_'+currentfile.strftime(\"%m%d_%H%M%S\")]['Internal Sound'] = globals()['A_'+currentfile.strftime(\"%m%d_%H%M%S\")]['Internal Sound'].astype(int)\n",
    "        # globals()['A_'+currentfile.strftime(\"%m%d_%H%M%S\")]['Ambient Temp.'] = globals()['A_'+currentfile.strftime(\"%m%d_%H%M%S\")]['Ambient Temp.'].astype(float) # 온도 데이터 필요할 때 살리세요.\n",
    "        # globals()['A_'+currentfile.strftime(\"%m%d_%H%M%S\")]['Target Temp.'] = globals()['A_'+currentfile.strftime(\"%m%d_%H%M%S\")]['Target Temp.'].astype(float)\n",
    "        globals()['A_'+currentfile.strftime(\"%m%d_%H%M%S\")] = pd.DataFrame(globals()['A_'+currentfile.strftime(\"%m%d_%H%M%S\")].loc[:, 'Internal Sound']) # 온도 데이터 필요할 때 죽이세요.\n",
    "        num += 1\n",
    "\n",
    "print(num) # 3556\n",
    "# A_0601_160403"
   ]
  },
  {
   "cell_type": "code",
   "execution_count": null,
   "metadata": {},
   "outputs": [],
   "source": []
  }
 ],
 "metadata": {
  "kernelspec": {
   "display_name": "Python 3",
   "language": "python",
   "name": "python3"
  },
  "language_info": {
   "codemirror_mode": {
    "name": "ipython",
    "version": 3
   },
   "file_extension": ".py",
   "mimetype": "text/x-python",
   "name": "python",
   "nbconvert_exporter": "python",
   "pygments_lexer": "ipython3",
   "version": "3.11.1"
  },
  "orig_nbformat": 4
 },
 "nbformat": 4,
 "nbformat_minor": 2
}
